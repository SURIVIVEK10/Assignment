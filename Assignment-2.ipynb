{
 "cells": [
  {
   "cell_type": "code",
   "execution_count": 1,
   "id": "087e807e",
   "metadata": {},
   "outputs": [
    {
     "name": "stdout",
     "output_type": "stream",
     "text": [
      "Input list elements:\n",
      "10\n",
      "20\n",
      "30\n",
      "40\n",
      "50\n"
     ]
    }
   ],
   "source": [
    "# 1. For Loop\n",
    "#  A for loop is a control flow statement that executes code for a predefined number of iterations. The keyword used in this control flow statement is “for”.\n",
    "#  When the number of iterations is already known, the for loop is used.\n",
    "\n",
    "inputList = [10, 20, 30, 40, 50]\n",
    "print(\"Input list elements:\")\n",
    "for element in inputList:\n",
    "    print(element)"
   ]
  },
  {
   "cell_type": "code",
   "execution_count": 3,
   "id": "a342dec9",
   "metadata": {},
   "outputs": [
    {
     "name": "stdout",
     "output_type": "stream",
     "text": [
      "1\n",
      "2\n",
      "3\n",
      "4\n",
      "5\n",
      "6\n",
      "7\n",
      "8\n",
      "9\n",
      "10\n"
     ]
    }
   ],
   "source": [
    "# 1 . While Loop\n",
    "#    When the number of iterations is unknown, a \"while\" loop is used. \n",
    "#    The statement is repeated until the boolean value is false.\n",
    "#    Because the condition is tested at the beginning of a while loop, it is also known as the pre-test loop.\n",
    "\n",
    "i = 1\n",
    "while i <= 10:\n",
    "    print(i)\n",
    "    i += 1 "
   ]
  },
  {
   "cell_type": "code",
   "execution_count": 7,
   "id": "651eb619",
   "metadata": {},
   "outputs": [
    {
     "name": "stdout",
     "output_type": "stream",
     "text": [
      "Enter a number: 2\n",
      "The result is 3\n"
     ]
    }
   ],
   "source": [
    "# 2.\n",
    "num = int(input(\"Enter a number: \")) \n",
    "\n",
    "if num < 0:\n",
    "   print(\"Please enter a positive number\")\n",
    "else:\n",
    "   sum = 0\n",
    "   \n",
    "   \n",
    "   while(num > 0):\n",
    "       sum += num\n",
    "       num -= 1\n",
    "   print(\"The result is\", sum)\n"
   ]
  },
  {
   "cell_type": "code",
   "execution_count": 11,
   "id": "350b1989",
   "metadata": {},
   "outputs": [
    {
     "name": "stdout",
     "output_type": "stream",
     "text": [
      "2250.0\n"
     ]
    }
   ],
   "source": [
    "#  3.\n",
    "\n",
    "def calculateBill(units):\n",
    "    if (units <= 100):\n",
    "        return units * 4.5;\n",
    "    elif (units <= 200):\n",
    "        return ((100 * 4.5) +\n",
    "                (units - 100) * 6);\n",
    "    elif (units <= 300):\n",
    "        return ((100 * 4.5) +\n",
    "                (100 * 6) +\n",
    "                (units - 200) * 10);\n",
    "    elif (units > 300):\n",
    "        return ((100 * 4.5) +\n",
    "                (100 * 6) +\n",
    "                (100 * 10) +\n",
    "                (units - 300) * 20);\n",
    "    return 0;\n",
    "units = 310;\n",
    "print(calculateBill(units));"
   ]
  },
  {
   "cell_type": "code",
   "execution_count": 20,
   "id": "684f46e0",
   "metadata": {},
   "outputs": [
    {
     "name": "stdout",
     "output_type": "stream",
     "text": [
      "0 20 40 60 80 "
     ]
    }
   ],
   "source": [
    "# 4.\n",
    "def result(N):\n",
    "     \n",
    "    \n",
    "    for num in range(N):\n",
    "         \n",
    "            \n",
    "            if num % 4 == 0 and num % 5 == 0:\n",
    "                print(str(num) + \" \", end = \"\")\n",
    "                 \n",
    "            else:\n",
    "                pass\n",
    " \n",
    "\n",
    "if __name__ == \"__main__\":\n",
    "     \n",
    "    \n",
    "    N = 100\n",
    "     \n",
    "    \n",
    "    result(N)"
   ]
  },
  {
   "cell_type": "code",
   "execution_count": 23,
   "id": "984e5e13",
   "metadata": {},
   "outputs": [
    {
     "name": "stdout",
     "output_type": "stream",
     "text": [
      "No. of vowels : 12\n"
     ]
    }
   ],
   "source": [
    "# 5 .\n",
    "\n",
    "def vowel_count(str):\n",
    "    count = 0\n",
    "    vowel = set(\"aeiouAEIOU\")\n",
    "    for alphabet in str:\n",
    "        if alphabet in vowel:\n",
    "            count = count + 1\n",
    "    print(\"No. of vowels :\", count)\n",
    "str = \"I want to become a data scientist\"\n",
    "vowel_count(str)"
   ]
  },
  {
   "cell_type": "code",
   "execution_count": null,
   "id": "95cc56ea",
   "metadata": {},
   "outputs": [],
   "source": []
  }
 ],
 "metadata": {
  "kernelspec": {
   "display_name": "Python 3 (ipykernel)",
   "language": "python",
   "name": "python3"
  },
  "language_info": {
   "codemirror_mode": {
    "name": "ipython",
    "version": 3
   },
   "file_extension": ".py",
   "mimetype": "text/x-python",
   "name": "python",
   "nbconvert_exporter": "python",
   "pygments_lexer": "ipython3",
   "version": "3.9.13"
  }
 },
 "nbformat": 4,
 "nbformat_minor": 5
}
