{
 "cells": [
  {
   "cell_type": "code",
   "execution_count": null,
   "id": "e67d1e7e",
   "metadata": {},
   "outputs": [],
   "source": [
    "1. python language is developed by Guido van Rossum in 1991 and developed by Python Software Foundation.It is a high-level programming language.\n",
    "   "
   ]
  },
  {
   "cell_type": "code",
   "execution_count": null,
   "id": "a7cc957c",
   "metadata": {},
   "outputs": [],
   "source": [
    "2. Python is a multi-paradigm programming language.\n",
    " Object-oriented programming and structured programming are fully supported,\n",
    " and many of their features support functional programming and \n",
    " aspect-oriented programming (including metaprogramming and metaobjects)."
   ]
  },
  {
   "cell_type": "code",
   "execution_count": null,
   "id": "3b1f0f2c",
   "metadata": {},
   "outputs": [],
   "source": [
    "3. Yes, Python is a case-sensitive language, i.e., it treats uppercase and lowercase characters differently. This applies to identifiers too.\n",
    "   You must avoid using the same name with different cases while naming identifiers."
   ]
  },
  {
   "cell_type": "code",
   "execution_count": null,
   "id": "37a3e0e5",
   "metadata": {},
   "outputs": [],
   "source": [
    "4. .py\n"
   ]
  },
  {
   "cell_type": "code",
   "execution_count": null,
   "id": "06609e6e",
   "metadata": {},
   "outputs": [],
   "source": [
    "5.  python language is interpreted. But that is half correct the python program is first compiled and then interpreted. \n",
    "     first when we execute our code and this will generate byte code and \n",
    "     internally this byte code gets converted by the python virtual machine(p.v.m) \n",
    "     according to the underlying platform(machine+operating system)."
   ]
  },
  {
   "cell_type": "code",
   "execution_count": null,
   "id": "0c83786c",
   "metadata": {},
   "outputs": [],
   "source": [
    "6.Indentation is used to define a block of code in python. Braces {} are used to define a block of code in most \n",
    "  programming languages, like C, C++, \n",
    "  and Java. But this indentation makes python unique among all programming languages.\n",
    "         This indentation highlights the block of code. In Python, indentation is done with whitespace.\n",
    "         All statements with the same right-hand distance belong to the same code block. \n",
    "          If a block needs to be more nested, it is indented to the right.\n",
    "            \n",
    "name = 'Vivek'\n",
    "if name == 'Vivek':\n",
    "    print('Correct Name!!')\n",
    "else:\n",
    "\tprint('InCorrect Name:(')\n",
    "print('HI')"
   ]
  },
  {
   "cell_type": "code",
   "execution_count": null,
   "id": "adda9765",
   "metadata": {},
   "outputs": [],
   "source": [
    "7. single # character"
   ]
  },
  {
   "cell_type": "code",
   "execution_count": null,
   "id": "902395c4",
   "metadata": {},
   "outputs": [],
   "source": [
    "8. Python3 -V command"
   ]
  },
  {
   "cell_type": "code",
   "execution_count": null,
   "id": "13578066",
   "metadata": {},
   "outputs": [],
   "source": [
    "9. Python supports to make anonymous functions which are not bound to a name(@ runtime). \n",
    "   It uses a construct called \"lambda\" ."
   ]
  },
  {
   "cell_type": "code",
   "execution_count": null,
   "id": "86fcf0eb",
   "metadata": {},
   "outputs": [],
   "source": [
    "10. PIP is the package manager for python. \n",
    "    Exg: JavaScript uses npm for package management, Python uses pip, and .NET use NuGet."
   ]
  },
  {
   "cell_type": "code",
   "execution_count": null,
   "id": "fec40acb",
   "metadata": {},
   "outputs": [],
   "source": [
    "# 11. abs()\tReturns the absolute value of a number\n",
    "#     all()\tReturns True if all items in an iterable object are true\n",
    "#     any()\tReturns True if any item in an iterable object is true\n",
    "#     ascii()\tReturns a readable version of an object. Replaces none-ascii characters with escape character\n",
    "#     bin()\tReturns the binary version of a number\n",
    "#   bool()\tReturns the boolean value of the specified object\n",
    "#  bytearray()\tReturns an array of bytes\n",
    "# bytes()\tReturns a bytes object\n",
    "# callable()\tReturns True if the specified object is callable, otherwise False\n",
    "# chr()\tReturns a character from the specified Unicode code.\n",
    "# classmethod()\tConverts a method into a class method\n",
    "# compile()\tReturns the specified source as an object, ready to be executed\n",
    "# complex()\tReturns a complex number\n",
    "# delattr()\tDeletes the specified attribute (property or method) from the specified object\n",
    "# dict()\tReturns a dictionary (Array)\n",
    "# dir()\tReturns a list of the specified object's properties and methods\n",
    "# divmod()\tReturns the quotient and the remainder when argument1 is divided by argument2\n",
    "# enumerate()\tTakes a collection (e.g. a tuple) and returns it as an enumerate object\n",
    "# eval()\tEvaluates and executes an expression\n",
    "# exec()\tExecutes the specified code (or object)\n",
    "# filter()\tUse a filter function to exclude items in an iterable object\n",
    "# float()\tReturns a floating point number\n",
    "# format()\tFormats a specified value\n",
    "# frozenset()\tReturns a frozenset object\n",
    "# getattr()\tReturns the value of the specified attribute (property or method)\n",
    "# globals()\tReturns the current global symbol table as a dictionary\n",
    "# hasattr()\tReturns True if the specified object has the specified attribute (property/method)\n",
    "# hash()\tReturns the hash value of a specified object\n",
    "# help()\tExecutes the built-in help system\n",
    "# hex()\tConverts a number into a hexadecimal value\n",
    "# id()\tReturns the id of an object\n",
    "# input()\tAllowing user input\n",
    "# int()\tReturns an integer number\n",
    "# isinstance()\tReturns True if a specified object is an instance of a specified object\n",
    "# issubclass()\tReturns True if a specified class is a subclass of a specified object\n",
    "# iter()\tReturns an iterator object\n",
    "# len()\tReturns the length of an object\n",
    "# list()\tReturns a list\n",
    "# locals()\tReturns an updated dictionary of the current local symbol table\n",
    "# map()\tReturns the specified iterator with the specified function applied to each item\n",
    "# max()\tReturns the largest item in an iterable\n",
    "# memoryview()\tReturns a memory view object\n",
    "# min()\tReturns the smallest item in an iterable\n",
    "# next()\tReturns the next item in an iterable\n",
    "# object()\tReturns a new object\n",
    "# oct()\tConverts a number into an octal\n",
    "# open()\tOpens a file and returns a file object\n",
    "# ord()\tConvert an integer representing the Unicode of the specified character\n",
    "# pow()\tReturns the value of x to the power of y\n",
    "# print()\tPrints to the standard output device\n",
    "# property()\tGets, sets, deletes a property\n",
    "# range()\tReturns a sequence of numbers, starting from 0 and increments by 1 (by default)\n",
    "# repr()\tReturns a readable version of an object\n",
    "# reversed()\tReturns a reversed iterator\n",
    "# round()\tRounds a numbers\n",
    "# set()\tReturns a new set object\n",
    "# setattr()\tSets an attribute (property/method) of an object\n",
    "# slice()\tReturns a slice object\n",
    "# sorted()\tReturns a sorted list\n",
    "# staticmethod()\tConverts a method into a static method\n",
    "# str()\tReturns a string object\n",
    "# sum()\tSums the items of an iterator\n",
    "# super()\tReturns an object that represents the parent class\n",
    "# tuple()\tReturns a tuple\n",
    "# type()\tReturns the type of an object\n",
    "# vars()\tReturns the __dict__ property of an object\n",
    "# zip()\tReturns an iterator, from two or more iterators\n"
   ]
  },
  {
   "cell_type": "code",
   "execution_count": null,
   "id": "61ff20bc",
   "metadata": {},
   "outputs": [],
   "source": [
    "12 . An identifier can have a maximum length of 79 characters in Python."
   ]
  },
  {
   "cell_type": "code",
   "execution_count": null,
   "id": "68e46267",
   "metadata": {},
   "outputs": [],
   "source": [
    "13. Easy to Read, Learn and Write\n",
    "   high-level programming language\n",
    "    Dynamically Typed\n",
    "    Vast Libraries Support\n",
    "    Portability\n",
    "    Interpreted Language:Python is an interpreted language which means that Python directly executes the code line by line. In case of any error, it stops further execution and reports back the error which has occurred."
   ]
  },
  {
   "cell_type": "code",
   "execution_count": null,
   "id": "71c355c4",
   "metadata": {},
   "outputs": [],
   "source": [
    "14. Memory allocation can be defined as allocating a block of space \n",
    "    in the computer memory to a program. In Python memory allocation and \n",
    "    deallocation method is automatic as the Python developers \n",
    "    created a garbage collector for Python so that the user does not have to do manual garbage collection."
   ]
  },
  {
   "cell_type": "code",
   "execution_count": null,
   "id": "adc5d4bd",
   "metadata": {},
   "outputs": [],
   "source": [
    "15. "
   ]
  },
  {
   "cell_type": "code",
   "execution_count": null,
   "id": "1ba18b4e",
   "metadata": {},
   "outputs": [],
   "source": [
    "16.Indentation in Python is very important. Python uses indentation to indicate a block of code."
   ]
  }
 ],
 "metadata": {
  "kernelspec": {
   "display_name": "Python 3 (ipykernel)",
   "language": "python",
   "name": "python3"
  },
  "language_info": {
   "codemirror_mode": {
    "name": "ipython",
    "version": 3
   },
   "file_extension": ".py",
   "mimetype": "text/x-python",
   "name": "python",
   "nbconvert_exporter": "python",
   "pygments_lexer": "ipython3",
   "version": "3.9.13"
  }
 },
 "nbformat": 4,
 "nbformat_minor": 5
}
